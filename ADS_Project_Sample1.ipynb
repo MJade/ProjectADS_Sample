{
 "cells": [
  {
   "cell_type": "markdown",
   "metadata": {},
   "source": [
    "### Another sample run ... With cleaned up code"
   ]
  },
  {
   "cell_type": "markdown",
   "metadata": {},
   "source": [
    "####ADS Project Sample Run"
   ]
  },
  {
   "cell_type": "code",
   "execution_count": 1,
   "metadata": {},
   "outputs": [],
   "source": [
    "#Importing Libraries\n",
    "import pandas as pd\n",
    "import numpy as np\n",
    "import seaborn as sns\n",
    "import matplotlib.pyplot as plt\n"
   ]
  },
  {
   "cell_type": "code",
   "execution_count": 2,
   "metadata": {},
   "outputs": [],
   "source": [
    "# initialise DataFrame\n",
    "dproject = pd.read_csv('Data_ADS_Project_Total_Cleaned.csv')"
   ]
  },
  {
   "cell_type": "code",
   "execution_count": 3,
   "metadata": {},
   "outputs": [
    {
     "data": {
      "text/html": [
       "<div>\n",
       "<style scoped>\n",
       "    .dataframe tbody tr th:only-of-type {\n",
       "        vertical-align: middle;\n",
       "    }\n",
       "\n",
       "    .dataframe tbody tr th {\n",
       "        vertical-align: top;\n",
       "    }\n",
       "\n",
       "    .dataframe thead th {\n",
       "        text-align: right;\n",
       "    }\n",
       "</style>\n",
       "<table border=\"1\" class=\"dataframe\">\n",
       "  <thead>\n",
       "    <tr style=\"text-align: right;\">\n",
       "      <th></th>\n",
       "      <th>Serial Number</th>\n",
       "      <th>School</th>\n",
       "      <th>Surname</th>\n",
       "      <th>First Name</th>\n",
       "      <th>Other Name</th>\n",
       "      <th>Date of entry</th>\n",
       "      <th>Gender</th>\n",
       "      <th>Date of Birth</th>\n",
       "      <th>Age</th>\n",
       "      <th>Languages Spoken</th>\n",
       "      <th>...</th>\n",
       "      <th>Language with Siblings</th>\n",
       "      <th>Language with Friends</th>\n",
       "      <th>Language in School</th>\n",
       "      <th>First English at</th>\n",
       "      <th>Comprehension 1</th>\n",
       "      <th>Comprehension 2</th>\n",
       "      <th>Comprehension 3</th>\n",
       "      <th>Comprehension 4</th>\n",
       "      <th>Comprehension 5</th>\n",
       "      <th>Unnamed: 22</th>\n",
       "    </tr>\n",
       "  </thead>\n",
       "  <tbody>\n",
       "    <tr>\n",
       "      <th>0</th>\n",
       "      <td>1.0</td>\n",
       "      <td>EIA</td>\n",
       "      <td>NaN</td>\n",
       "      <td>NaN</td>\n",
       "      <td>NaN</td>\n",
       "      <td>17/02/2023</td>\n",
       "      <td>F</td>\n",
       "      <td>12/3/2012</td>\n",
       "      <td>age</td>\n",
       "      <td>English , Yoruba</td>\n",
       "      <td>...</td>\n",
       "      <td>English, Yoruba</td>\n",
       "      <td>English, Yoruba</td>\n",
       "      <td>English</td>\n",
       "      <td>At home</td>\n",
       "      <td>1</td>\n",
       "      <td>1</td>\n",
       "      <td>1</td>\n",
       "      <td>1</td>\n",
       "      <td>1</td>\n",
       "      <td>NaN</td>\n",
       "    </tr>\n",
       "    <tr>\n",
       "      <th>1</th>\n",
       "      <td>2.0</td>\n",
       "      <td>EIA</td>\n",
       "      <td>NaN</td>\n",
       "      <td>NaN</td>\n",
       "      <td>NaN</td>\n",
       "      <td>17/02/2023</td>\n",
       "      <td>M</td>\n",
       "      <td>NaN</td>\n",
       "      <td>NaN</td>\n",
       "      <td>English, Yoruba, Pidgin English</td>\n",
       "      <td>...</td>\n",
       "      <td>English, Pidgin English</td>\n",
       "      <td>English, Pidgin English</td>\n",
       "      <td>English</td>\n",
       "      <td>Primary School</td>\n",
       "      <td>1</td>\n",
       "      <td>1</td>\n",
       "      <td>1</td>\n",
       "      <td>1</td>\n",
       "      <td>1</td>\n",
       "      <td>NaN</td>\n",
       "    </tr>\n",
       "    <tr>\n",
       "      <th>2</th>\n",
       "      <td>3.0</td>\n",
       "      <td>EIA</td>\n",
       "      <td>NaN</td>\n",
       "      <td>NaN</td>\n",
       "      <td>NaN</td>\n",
       "      <td>17/02/2023</td>\n",
       "      <td>F</td>\n",
       "      <td>2013</td>\n",
       "      <td>NaN</td>\n",
       "      <td>English, Igbo</td>\n",
       "      <td>...</td>\n",
       "      <td>English, Igbo</td>\n",
       "      <td>English</td>\n",
       "      <td>English</td>\n",
       "      <td>At home</td>\n",
       "      <td>1</td>\n",
       "      <td>1</td>\n",
       "      <td>1</td>\n",
       "      <td>1</td>\n",
       "      <td>1</td>\n",
       "      <td>NaN</td>\n",
       "    </tr>\n",
       "    <tr>\n",
       "      <th>3</th>\n",
       "      <td>4.0</td>\n",
       "      <td>EIA</td>\n",
       "      <td>NaN</td>\n",
       "      <td>NaN</td>\n",
       "      <td>NaN</td>\n",
       "      <td>17/02/2023</td>\n",
       "      <td>M</td>\n",
       "      <td>15/10/2012</td>\n",
       "      <td>NaN</td>\n",
       "      <td>English, Hausa, Bura</td>\n",
       "      <td>...</td>\n",
       "      <td>English</td>\n",
       "      <td>English</td>\n",
       "      <td>English</td>\n",
       "      <td>Play group</td>\n",
       "      <td>1</td>\n",
       "      <td>1</td>\n",
       "      <td>1</td>\n",
       "      <td>1</td>\n",
       "      <td>1</td>\n",
       "      <td>NaN</td>\n",
       "    </tr>\n",
       "    <tr>\n",
       "      <th>4</th>\n",
       "      <td>6.0</td>\n",
       "      <td>EIA</td>\n",
       "      <td>NaN</td>\n",
       "      <td>NaN</td>\n",
       "      <td>NaN</td>\n",
       "      <td>17/02/2023</td>\n",
       "      <td>M</td>\n",
       "      <td>NaN</td>\n",
       "      <td>NaN</td>\n",
       "      <td>English, Pidgin English, Gbagyi</td>\n",
       "      <td>...</td>\n",
       "      <td>English, Pidgin English, Gbagyi</td>\n",
       "      <td>English, Pidgin English, Gbagyi</td>\n",
       "      <td>English</td>\n",
       "      <td>Primary School</td>\n",
       "      <td>1</td>\n",
       "      <td>1</td>\n",
       "      <td>1</td>\n",
       "      <td>0</td>\n",
       "      <td>1</td>\n",
       "      <td>NaN</td>\n",
       "    </tr>\n",
       "  </tbody>\n",
       "</table>\n",
       "<p>5 rows × 23 columns</p>\n",
       "</div>"
      ],
      "text/plain": [
       "   Serial Number School Surname First Name Other Name Date of entry Gender  \\\n",
       "0            1.0    EIA     NaN        NaN        NaN    17/02/2023      F   \n",
       "1            2.0    EIA     NaN        NaN        NaN    17/02/2023      M   \n",
       "2            3.0    EIA     NaN        NaN        NaN    17/02/2023      F   \n",
       "3            4.0    EIA     NaN        NaN        NaN    17/02/2023      M   \n",
       "4            6.0    EIA     NaN        NaN        NaN    17/02/2023      M   \n",
       "\n",
       "  Date of Birth  Age                 Languages Spoken  ...  \\\n",
       "0     12/3/2012  age                 English , Yoruba  ...   \n",
       "1           NaN  NaN  English, Yoruba, Pidgin English  ...   \n",
       "2          2013  NaN                    English, Igbo  ...   \n",
       "3    15/10/2012  NaN             English, Hausa, Bura  ...   \n",
       "4           NaN  NaN  English, Pidgin English, Gbagyi  ...   \n",
       "\n",
       "            Language with Siblings            Language with Friends  \\\n",
       "0                  English, Yoruba                  English, Yoruba   \n",
       "1          English, Pidgin English          English, Pidgin English   \n",
       "2                    English, Igbo                          English   \n",
       "3                          English                          English   \n",
       "4  English, Pidgin English, Gbagyi  English, Pidgin English, Gbagyi   \n",
       "\n",
       "  Language in School First English at  Comprehension 1 Comprehension 2  \\\n",
       "0            English           At home               1               1   \n",
       "1            English    Primary School               1               1   \n",
       "2            English           At home               1               1   \n",
       "3            English        Play group               1               1   \n",
       "4            English    Primary School               1               1   \n",
       "\n",
       "  Comprehension 3 Comprehension 4 Comprehension 5 Unnamed: 22  \n",
       "0               1               1               1         NaN  \n",
       "1               1               1               1         NaN  \n",
       "2               1               1               1         NaN  \n",
       "3               1               1               1         NaN  \n",
       "4               1               0               1         NaN  \n",
       "\n",
       "[5 rows x 23 columns]"
      ]
     },
     "execution_count": 3,
     "metadata": {},
     "output_type": "execute_result"
    }
   ],
   "source": [
    "dproject.head()"
   ]
  },
  {
   "cell_type": "code",
   "execution_count": 4,
   "metadata": {},
   "outputs": [
    {
     "name": "stdout",
     "output_type": "stream",
     "text": [
      "<class 'pandas.core.frame.DataFrame'>\n",
      "RangeIndex: 1005 entries, 0 to 1004\n",
      "Data columns (total 23 columns):\n",
      " #   Column                  Non-Null Count  Dtype  \n",
      "---  ------                  --------------  -----  \n",
      " 0   Serial Number           994 non-null    float64\n",
      " 1   School                  1005 non-null   object \n",
      " 2   Surname                 890 non-null    object \n",
      " 3   First Name              890 non-null    object \n",
      " 4   Other Name              339 non-null    object \n",
      " 5   Date of entry           999 non-null    object \n",
      " 6   Gender                  1001 non-null   object \n",
      " 7   Date of Birth           615 non-null    object \n",
      " 8   Age                     1 non-null      object \n",
      " 9   Languages Spoken        1002 non-null   object \n",
      " 10  Class                   1004 non-null   object \n",
      " 11  Year of Entry           965 non-null    float64\n",
      " 12  Language with Parents   1002 non-null   object \n",
      " 13  Language with Siblings  994 non-null    object \n",
      " 14  Language with Friends   1000 non-null   object \n",
      " 15  Language in School      993 non-null    object \n",
      " 16  First English at        999 non-null    object \n",
      " 17  Comprehension 1         982 non-null    object \n",
      " 18  Comprehension 2         972 non-null    object \n",
      " 19  Comprehension 3         968 non-null    object \n",
      " 20  Comprehension 4         958 non-null    object \n",
      " 21  Comprehension 5         959 non-null    object \n",
      " 22  Unnamed: 22             0 non-null      float64\n",
      "dtypes: float64(3), object(20)\n",
      "memory usage: 180.7+ KB\n"
     ]
    }
   ],
   "source": [
    "dproject.info()"
   ]
  },
  {
   "cell_type": "code",
   "execution_count": 5,
   "metadata": {},
   "outputs": [
    {
     "data": {
      "text/html": [
       "<div>\n",
       "<style scoped>\n",
       "    .dataframe tbody tr th:only-of-type {\n",
       "        vertical-align: middle;\n",
       "    }\n",
       "\n",
       "    .dataframe tbody tr th {\n",
       "        vertical-align: top;\n",
       "    }\n",
       "\n",
       "    .dataframe thead th {\n",
       "        text-align: right;\n",
       "    }\n",
       "</style>\n",
       "<table border=\"1\" class=\"dataframe\">\n",
       "  <thead>\n",
       "    <tr style=\"text-align: right;\">\n",
       "      <th></th>\n",
       "      <th>Serial Number</th>\n",
       "      <th>Year of Entry</th>\n",
       "      <th>Unnamed: 22</th>\n",
       "    </tr>\n",
       "  </thead>\n",
       "  <tbody>\n",
       "    <tr>\n",
       "      <th>count</th>\n",
       "      <td>994.000000</td>\n",
       "      <td>965.000000</td>\n",
       "      <td>0.0</td>\n",
       "    </tr>\n",
       "    <tr>\n",
       "      <th>mean</th>\n",
       "      <td>490.615694</td>\n",
       "      <td>2018.502591</td>\n",
       "      <td>NaN</td>\n",
       "    </tr>\n",
       "    <tr>\n",
       "      <th>std</th>\n",
       "      <td>311.880253</td>\n",
       "      <td>1.283975</td>\n",
       "      <td>NaN</td>\n",
       "    </tr>\n",
       "    <tr>\n",
       "      <th>min</th>\n",
       "      <td>1.000000</td>\n",
       "      <td>2014.000000</td>\n",
       "      <td>NaN</td>\n",
       "    </tr>\n",
       "    <tr>\n",
       "      <th>25%</th>\n",
       "      <td>227.000000</td>\n",
       "      <td>2017.000000</td>\n",
       "      <td>NaN</td>\n",
       "    </tr>\n",
       "    <tr>\n",
       "      <th>50%</th>\n",
       "      <td>443.500000</td>\n",
       "      <td>2019.000000</td>\n",
       "      <td>NaN</td>\n",
       "    </tr>\n",
       "    <tr>\n",
       "      <th>75%</th>\n",
       "      <td>776.750000</td>\n",
       "      <td>2020.000000</td>\n",
       "      <td>NaN</td>\n",
       "    </tr>\n",
       "    <tr>\n",
       "      <th>max</th>\n",
       "      <td>1800.000000</td>\n",
       "      <td>2022.000000</td>\n",
       "      <td>NaN</td>\n",
       "    </tr>\n",
       "  </tbody>\n",
       "</table>\n",
       "</div>"
      ],
      "text/plain": [
       "       Serial Number  Year of Entry  Unnamed: 22\n",
       "count     994.000000     965.000000          0.0\n",
       "mean      490.615694    2018.502591          NaN\n",
       "std       311.880253       1.283975          NaN\n",
       "min         1.000000    2014.000000          NaN\n",
       "25%       227.000000    2017.000000          NaN\n",
       "50%       443.500000    2019.000000          NaN\n",
       "75%       776.750000    2020.000000          NaN\n",
       "max      1800.000000    2022.000000          NaN"
      ]
     },
     "execution_count": 5,
     "metadata": {},
     "output_type": "execute_result"
    }
   ],
   "source": [
    "dproject.describe()"
   ]
  },
  {
   "cell_type": "code",
   "execution_count": 6,
   "metadata": {},
   "outputs": [
    {
     "data": {
      "text/plain": [
       "array(['English , Yoruba', 'English, Yoruba, Pidgin English',\n",
       "       'English, Igbo', 'English, Hausa, Bura',\n",
       "       'English, Pidgin English, Gbagyi', 'English, Gbagyi, Hausa',\n",
       "       'Yoruba, English', 'English, Yoruba', 'English, Gbagyi',\n",
       "       'English, Idoma', 'English, Hausa, Gbagyi',\n",
       "       'English, Ijona, Pidgin English', 'English', 'English, Hausa',\n",
       "       'English, Tiv', 'English, Hausa, Tarok ', 'English, Akwa Ibom',\n",
       "       'English, Igala', 'English, Amo, Hausa', 'English, Tarok',\n",
       "       'Hausa, Fulfude', 'English, Gede, Fulfulde, Hausa',\n",
       "       'English, Fulfulde', 'English, Ngas', 'English, Mada',\n",
       "       'English, Cross River', 'English, Bassa', 'English, Eggon',\n",
       "       'English, Igon', 'Englis, Jabba , Hausa ', 'English, Kilber',\n",
       "       'English, Hausa, Tiv', 'English, Igede', 'English, Hausa, Idoma',\n",
       "       'Gbagyi, English', 'Tiv, Gbagyi', 'Bassa, Gbagyi, English',\n",
       "       'English, Hausa, Fulani', 'Gbagyi,Hausa,Mada, English', nan,\n",
       "       'English,Gbagyi,Hausa,Gade', 'Gbagyi,English,Hausa, Gade',\n",
       "       'English,Gbagyi,Hausa, Mada', 'Hausa,Gbagyi, English',\n",
       "       'English,Gbagyi, Hausa', 'English,Gbagyi, Mada', 'English, Gade',\n",
       "       'Gade, English', 'English,Gbagyi, Tiv', 'Gbagyi,Hausa, English',\n",
       "       'Tiv', 'Hausa', 'Gade', 'Gbagyi', 'Gbagyi  ', 'Tiv   ',\n",
       "       'English, Hausa, Ebira', 'Gbagyi, Hausa', 'Mada', 'Gbaagyi',\n",
       "       'Tiv, English', 'Gbagyi, Gade', 'Gbagyi, Mada', 'Gbagyi  , Hausa',\n",
       "       'Hausa, English, Gbagyi', 'English, Hausa, Gbagyi, Pidgin English',\n",
       "       'Gbagyi, Pidgin English, Hausa', 'Hausa, English', 'Fulfulde',\n",
       "       'Hausa, Fulfulde', 'Nupe, English', 'Ngas', 'Jaba', 'Basahge',\n",
       "       'Yoruba', 'Bassa', 'Narm, Gbagyi', 'Koro', '2018',\n",
       "       'English, Yoruba, Gbagyi', 'Igala, English', 'Gbagyi, Koro',\n",
       "       ' Gbagyi, Hausa', 'Kantana', 'English, Ganagana',\n",
       "       'English, Gbagyi ', 'English, Hausa, Gusawa', 'Igbo, English',\n",
       "       'English, Chawai', 'Gede', 'Yoruba ,English, Fulfulde', 'Cantana',\n",
       "       'English, Hausa, Eggon', 'Nupe', 'Enlish, Gbagyi', 'Igbo',\n",
       "       'English ,Hausa, Gbagyi, Koro', 'Attakar', 'Kurama',\n",
       "       'English, Hausa, Bajju', 'Gbagyi, Gede',\n",
       "       'Pidgin English, Gede, Hausa', 'Chala', 'Yoruba ,English',\n",
       "       'Pidgin English, Hausa, Chawai', ' English',\n",
       "       'Pidgin English, Gbagyi', 'English, Ahor, Hausa',\n",
       "       'Pidgin English,  Hausa, Tiv', 'Bassa, English',\n",
       "       'English, Basange', 'English, Hausa, Gbagyi, Afo', 'Arago',\n",
       "       'English, Gede', 'English, Tiv, Hausa', 'English, Tiv, Hausa ',\n",
       "       'English, Hausa, Gede', 'Kwala',\n",
       "       'English,Pidin English,Hausa, Gede', 'English, TIV',\n",
       "       'English, Chawel', 'English, Bassa, Hausa',\n",
       "       'English, Hausa, Gwandara', 'Englis, Hausa, Tiv',\n",
       "       'English, Gbagyi , Hausa', 'Gbagyi, Hausa  ',\n",
       "       'Pidgin English, Hausa', 'Pidgin English',\n",
       "       'Tiv, Hausa, Pidgin English', 'English, Fulfulde, Hausa ',\n",
       "       'Pidgin English, Hausa, Tiv', 'English, Pidgin English',\n",
       "       'Pidgin English, Hausa, Gbagyi', 'Gbagyi, Pidgin English',\n",
       "       'Pidgin English, Gede', 'Hausa, Tiv', 'Gede, English',\n",
       "       'English, Pidgin English, Gede', 'Enlish, Hausa',\n",
       "       'Pidgin English, Hausa , Gede', 'English,  Tiv, Hausa',\n",
       "       'English, Tiv ', 'English, Jaba', 'English, Madar',\n",
       "       'English, Pidgin English, Tiv', 'English ', 'Englisha, Igbira',\n",
       "       'Ibo', 'Igala', 'Kwol', 'English, Kaduna', 'Edo', 'Gbaayi', 'Baju',\n",
       "       'Ebira', 'Angas', 'tiv', 'Ahoe', 'Idoma', 'English, Ibo', 'Gbagy',\n",
       "       'English, Ron', 'English, Edo', 'Boju', 'Burea', 'Bajju',\n",
       "       'Gbagyi, Yoruba', 'English,Hausa, Yoruba', 'Yoruba, Ibo', 'Awo',\n",
       "       'Efik', 'English, Ibibio(Akwa-Ibom', 'English, Kataf',\n",
       "       'Englsh, Igala', 'English,Hausa, Adara', 'English,Hausa, Atarkar',\n",
       "       'English,Hausa,Fulfude', 'English, Margi', 'Katab', 'Yoruba.'],\n",
       "      dtype=object)"
      ]
     },
     "execution_count": 6,
     "metadata": {},
     "output_type": "execute_result"
    }
   ],
   "source": [
    "languages = dproject[\"Languages Spoken\"].unique()\n",
    "languages"
   ]
  },
  {
   "cell_type": "code",
   "execution_count": 7,
   "metadata": {},
   "outputs": [
    {
     "name": "stdout",
     "output_type": "stream",
     "text": [
      "   Serial Number School Surname First Name Other Name Date of entry Gender  \\\n",
      "0            1.0    EIA     NaN        NaN        NaN    17/02/2023      F   \n",
      "1            2.0    EIA     NaN        NaN        NaN    17/02/2023      M   \n",
      "2            3.0    EIA     NaN        NaN        NaN    17/02/2023      F   \n",
      "3            4.0    EIA     NaN        NaN        NaN    17/02/2023      M   \n",
      "4            6.0    EIA     NaN        NaN        NaN    17/02/2023      M   \n",
      "\n",
      "  Date of Birth  Age                 Languages Spoken  ... First English at   \\\n",
      "0     12/3/2012  age                 English , Yoruba  ...           At home   \n",
      "1           NaN  NaN  English, Yoruba, Pidgin English  ...    Primary School   \n",
      "2          2013  NaN                    English, Igbo  ...           At home   \n",
      "3    15/10/2012  NaN             English, Hausa, Bura  ...        Play group   \n",
      "4           NaN  NaN  English, Pidgin English, Gbagyi  ...    Primary School   \n",
      "\n",
      "   Comprehension 1 Comprehension 2 Comprehension 3 Comprehension 4  \\\n",
      "0                1               1               1               1   \n",
      "1                1               1               1               1   \n",
      "2                1               1               1               1   \n",
      "3                1               1               1               1   \n",
      "4                1               1               1               0   \n",
      "\n",
      "  Comprehension 5 Unnamed: 22  F  F  M  \n",
      "0               1         NaN  0  1  0  \n",
      "1               1         NaN  0  0  1  \n",
      "2               1         NaN  0  1  0  \n",
      "3               1         NaN  0  0  1  \n",
      "4               1         NaN  0  0  1  \n",
      "\n",
      "[5 rows x 26 columns]\n"
     ]
    }
   ],
   "source": [
    "# SAMPLE code:  perform one hot encoding using get_dummies\n",
    "# df_onehot = pd.get_dummies(df['Gender'])\n",
    "\n",
    "# add the one hot encoded columns to the original dataframe\n",
    "# df = pd.concat([df, df_onehot], axis=1)\n",
    "\n",
    "# print(df)\n",
    "\n",
    "df_onehot = pd.get_dummies(dproject['Gender'])\n",
    "\n",
    "dproject=pd.concat([dproject, df_onehot], axis=1)\n",
    "\n",
    "print(dproject.head())"
   ]
  },
  {
   "cell_type": "code",
   "execution_count": 8,
   "metadata": {},
   "outputs": [
    {
     "name": "stdout",
     "output_type": "stream",
     "text": [
      "   Serial Number School Surname First Name Other Name Date of entry Gender  \\\n",
      "0            1.0    EIA     NaN        NaN        NaN    17/02/2023      F   \n",
      "1            2.0    EIA     NaN        NaN        NaN    17/02/2023      M   \n",
      "2            3.0    EIA     NaN        NaN        NaN    17/02/2023      F   \n",
      "3            4.0    EIA     NaN        NaN        NaN    17/02/2023      M   \n",
      "4            6.0    EIA     NaN        NaN        NaN    17/02/2023      M   \n",
      "\n",
      "  Date of Birth  Age                 Languages Spoken  ... First English at   \\\n",
      "0     12/3/2012  age                 English , Yoruba  ...           At home   \n",
      "1           NaN  NaN  English, Yoruba, Pidgin English  ...    Primary School   \n",
      "2          2013  NaN                    English, Igbo  ...           At home   \n",
      "3    15/10/2012  NaN             English, Hausa, Bura  ...        Play group   \n",
      "4           NaN  NaN  English, Pidgin English, Gbagyi  ...    Primary School   \n",
      "\n",
      "   Comprehension 1 Comprehension 2 Comprehension 3 Comprehension 4  \\\n",
      "0                1               1               1               1   \n",
      "1                1               1               1               1   \n",
      "2                1               1               1               1   \n",
      "3                1               1               1               1   \n",
      "4                1               1               1               0   \n",
      "\n",
      "  Comprehension 5 Unnamed: 22  F  F  M  \n",
      "0               1         NaN  0  1  0  \n",
      "1               1         NaN  0  0  1  \n",
      "2               1         NaN  0  1  0  \n",
      "3               1         NaN  0  0  1  \n",
      "4               1         NaN  0  0  1  \n",
      "\n",
      "[5 rows x 26 columns]\n"
     ]
    }
   ],
   "source": [
    "dproject2=dproject.copy()\n",
    "print(dproject2.head())"
   ]
  },
  {
   "cell_type": "code",
   "execution_count": 9,
   "metadata": {},
   "outputs": [
    {
     "data": {
      "text/plain": [
       "179"
      ]
     },
     "execution_count": 9,
     "metadata": {},
     "output_type": "execute_result"
    }
   ],
   "source": [
    "languages = dproject[\"Languages Spoken\"].nunique()\n",
    "languages"
   ]
  },
  {
   "cell_type": "code",
   "execution_count": 31,
   "metadata": {},
   "outputs": [],
   "source": [
    "#df[[\"Score1\", \"Score2\", \"Score3\"]] = df[\"score\"].str.split(\",\", expand=True)\n",
    "dproject[[\"Lang1\", \"Lang2\", \"Lang3\", \"Lang4\"]] = dproject[\"Languages Spoken\"].str.split(\",\", expand=True)\n",
    "# ref...https://medium.com/@akaivdo/how-to-split-one-column-to-multiple-columns-in-pandas-3c857b47fbde"
   ]
  },
  {
   "cell_type": "code",
   "execution_count": 32,
   "metadata": {},
   "outputs": [
    {
     "data": {
      "text/html": [
       "<div>\n",
       "<style scoped>\n",
       "    .dataframe tbody tr th:only-of-type {\n",
       "        vertical-align: middle;\n",
       "    }\n",
       "\n",
       "    .dataframe tbody tr th {\n",
       "        vertical-align: top;\n",
       "    }\n",
       "\n",
       "    .dataframe thead th {\n",
       "        text-align: right;\n",
       "    }\n",
       "</style>\n",
       "<table border=\"1\" class=\"dataframe\">\n",
       "  <thead>\n",
       "    <tr style=\"text-align: right;\">\n",
       "      <th></th>\n",
       "      <th>Serial Number</th>\n",
       "      <th>School</th>\n",
       "      <th>Surname</th>\n",
       "      <th>First Name</th>\n",
       "      <th>Other Name</th>\n",
       "      <th>Date of entry</th>\n",
       "      <th>Gender</th>\n",
       "      <th>Date of Birth</th>\n",
       "      <th>Age</th>\n",
       "      <th>Languages Spoken</th>\n",
       "      <th>...</th>\n",
       "      <th>Comprehension 5</th>\n",
       "      <th>Unnamed: 22</th>\n",
       "      <th>F</th>\n",
       "      <th>F</th>\n",
       "      <th>M</th>\n",
       "      <th>Language List</th>\n",
       "      <th>Lang1</th>\n",
       "      <th>Lang2</th>\n",
       "      <th>Lang3</th>\n",
       "      <th>Lang4</th>\n",
       "    </tr>\n",
       "  </thead>\n",
       "  <tbody>\n",
       "    <tr>\n",
       "      <th>0</th>\n",
       "      <td>1.0</td>\n",
       "      <td>EIA</td>\n",
       "      <td>NaN</td>\n",
       "      <td>NaN</td>\n",
       "      <td>NaN</td>\n",
       "      <td>17/02/2023</td>\n",
       "      <td>F</td>\n",
       "      <td>12/3/2012</td>\n",
       "      <td>age</td>\n",
       "      <td>English , Yoruba</td>\n",
       "      <td>...</td>\n",
       "      <td>1</td>\n",
       "      <td>NaN</td>\n",
       "      <td>0</td>\n",
       "      <td>1</td>\n",
       "      <td>0</td>\n",
       "      <td>[English ,  Yoruba]</td>\n",
       "      <td>English</td>\n",
       "      <td>Yoruba</td>\n",
       "      <td>None</td>\n",
       "      <td>None</td>\n",
       "    </tr>\n",
       "    <tr>\n",
       "      <th>1</th>\n",
       "      <td>2.0</td>\n",
       "      <td>EIA</td>\n",
       "      <td>NaN</td>\n",
       "      <td>NaN</td>\n",
       "      <td>NaN</td>\n",
       "      <td>17/02/2023</td>\n",
       "      <td>M</td>\n",
       "      <td>NaN</td>\n",
       "      <td>NaN</td>\n",
       "      <td>English, Yoruba, Pidgin English</td>\n",
       "      <td>...</td>\n",
       "      <td>1</td>\n",
       "      <td>NaN</td>\n",
       "      <td>0</td>\n",
       "      <td>0</td>\n",
       "      <td>1</td>\n",
       "      <td>[English,  Yoruba,  Pidgin English]</td>\n",
       "      <td>English</td>\n",
       "      <td>Yoruba</td>\n",
       "      <td>Pidgin English</td>\n",
       "      <td>None</td>\n",
       "    </tr>\n",
       "    <tr>\n",
       "      <th>2</th>\n",
       "      <td>3.0</td>\n",
       "      <td>EIA</td>\n",
       "      <td>NaN</td>\n",
       "      <td>NaN</td>\n",
       "      <td>NaN</td>\n",
       "      <td>17/02/2023</td>\n",
       "      <td>F</td>\n",
       "      <td>2013</td>\n",
       "      <td>NaN</td>\n",
       "      <td>English, Igbo</td>\n",
       "      <td>...</td>\n",
       "      <td>1</td>\n",
       "      <td>NaN</td>\n",
       "      <td>0</td>\n",
       "      <td>1</td>\n",
       "      <td>0</td>\n",
       "      <td>[English,  Igbo]</td>\n",
       "      <td>English</td>\n",
       "      <td>Igbo</td>\n",
       "      <td>None</td>\n",
       "      <td>None</td>\n",
       "    </tr>\n",
       "    <tr>\n",
       "      <th>3</th>\n",
       "      <td>4.0</td>\n",
       "      <td>EIA</td>\n",
       "      <td>NaN</td>\n",
       "      <td>NaN</td>\n",
       "      <td>NaN</td>\n",
       "      <td>17/02/2023</td>\n",
       "      <td>M</td>\n",
       "      <td>15/10/2012</td>\n",
       "      <td>NaN</td>\n",
       "      <td>English, Hausa, Bura</td>\n",
       "      <td>...</td>\n",
       "      <td>1</td>\n",
       "      <td>NaN</td>\n",
       "      <td>0</td>\n",
       "      <td>0</td>\n",
       "      <td>1</td>\n",
       "      <td>[English,  Hausa,  Bura]</td>\n",
       "      <td>English</td>\n",
       "      <td>Hausa</td>\n",
       "      <td>Bura</td>\n",
       "      <td>None</td>\n",
       "    </tr>\n",
       "    <tr>\n",
       "      <th>4</th>\n",
       "      <td>6.0</td>\n",
       "      <td>EIA</td>\n",
       "      <td>NaN</td>\n",
       "      <td>NaN</td>\n",
       "      <td>NaN</td>\n",
       "      <td>17/02/2023</td>\n",
       "      <td>M</td>\n",
       "      <td>NaN</td>\n",
       "      <td>NaN</td>\n",
       "      <td>English, Pidgin English, Gbagyi</td>\n",
       "      <td>...</td>\n",
       "      <td>1</td>\n",
       "      <td>NaN</td>\n",
       "      <td>0</td>\n",
       "      <td>0</td>\n",
       "      <td>1</td>\n",
       "      <td>[English,  Pidgin English,  Gbagyi]</td>\n",
       "      <td>English</td>\n",
       "      <td>Pidgin English</td>\n",
       "      <td>Gbagyi</td>\n",
       "      <td>None</td>\n",
       "    </tr>\n",
       "  </tbody>\n",
       "</table>\n",
       "<p>5 rows × 31 columns</p>\n",
       "</div>"
      ],
      "text/plain": [
       "   Serial Number School Surname First Name Other Name Date of entry Gender  \\\n",
       "0            1.0    EIA     NaN        NaN        NaN    17/02/2023      F   \n",
       "1            2.0    EIA     NaN        NaN        NaN    17/02/2023      M   \n",
       "2            3.0    EIA     NaN        NaN        NaN    17/02/2023      F   \n",
       "3            4.0    EIA     NaN        NaN        NaN    17/02/2023      M   \n",
       "4            6.0    EIA     NaN        NaN        NaN    17/02/2023      M   \n",
       "\n",
       "  Date of Birth  Age                 Languages Spoken  ... Comprehension 5  \\\n",
       "0     12/3/2012  age                 English , Yoruba  ...               1   \n",
       "1           NaN  NaN  English, Yoruba, Pidgin English  ...               1   \n",
       "2          2013  NaN                    English, Igbo  ...               1   \n",
       "3    15/10/2012  NaN             English, Hausa, Bura  ...               1   \n",
       "4           NaN  NaN  English, Pidgin English, Gbagyi  ...               1   \n",
       "\n",
       "   Unnamed: 22  F  F  M                        Language List     Lang1  \\\n",
       "0          NaN  0  1  0                  [English ,  Yoruba]  English    \n",
       "1          NaN  0  0  1  [English,  Yoruba,  Pidgin English]   English   \n",
       "2          NaN  0  1  0                     [English,  Igbo]   English   \n",
       "3          NaN  0  0  1             [English,  Hausa,  Bura]   English   \n",
       "4          NaN  0  0  1  [English,  Pidgin English,  Gbagyi]   English   \n",
       "\n",
       "             Lang2            Lang3 Lang4  \n",
       "0           Yoruba             None  None  \n",
       "1           Yoruba   Pidgin English  None  \n",
       "2             Igbo             None  None  \n",
       "3            Hausa             Bura  None  \n",
       "4   Pidgin English           Gbagyi  None  \n",
       "\n",
       "[5 rows x 31 columns]"
      ]
     },
     "execution_count": 32,
     "metadata": {},
     "output_type": "execute_result"
    }
   ],
   "source": [
    "dproject.head()"
   ]
  },
  {
   "cell_type": "code",
   "execution_count": 34,
   "metadata": {},
   "outputs": [
    {
     "name": "stdout",
     "output_type": "stream",
     "text": [
      "1st language column:  56\n",
      "2nd language column:  54\n",
      "3rd language column:  26\n",
      "4th language column:  10\n"
     ]
    }
   ],
   "source": [
    "languages1 = dproject[\"Lang1\"].nunique()\n",
    "print(\"1st language column: \", languages1)\n",
    "\n",
    "languages2 = dproject[\"Lang2\"].nunique()\n",
    "print(\"2nd language column: \",languages2)\n",
    "\n",
    "languages3 = dproject[\"Lang3\"].nunique()\n",
    "print(\"3rd language column: \",languages3)\n",
    "\n",
    "languages4 = dproject[\"Lang4\"].nunique()\n",
    "print(\"4th language column: \",languages4)\n",
    "\n",
    "\n",
    "\n",
    "#df_onehot = pd.get_dummies(dproject['Languages Spoken'])\n",
    "\n",
    "#dproject=pd.concat([dproject, df_onehot], axis=1)\n",
    "\n",
    "# print(dproject.head())"
   ]
  },
  {
   "cell_type": "code",
   "execution_count": 35,
   "metadata": {},
   "outputs": [
    {
     "data": {
      "text/plain": [
       "array(['English ', 'English', 'Yoruba', 'Hausa', 'Englis', 'Gbagyi',\n",
       "       'Tiv', 'Bassa', nan, 'Gade', 'Gbagyi  ', 'Tiv   ', 'Mada',\n",
       "       'Gbaagyi', 'Fulfulde', 'Nupe', 'Ngas', 'Jaba', 'Basahge', 'Narm',\n",
       "       'Koro', '2018', 'Igala', ' Gbagyi', 'Kantana', 'Igbo', 'Gede',\n",
       "       'Yoruba ', 'Cantana', 'Enlish', 'Attakar', 'Kurama',\n",
       "       'Pidgin English', 'Chala', ' English', 'Arago', 'Kwala',\n",
       "       'Englisha', 'Ibo', 'Kwol', 'Edo', 'Gbaayi', 'Baju', 'Ebira',\n",
       "       'Angas', 'tiv', 'Ahoe', 'Idoma', 'Gbagy', 'Boju', 'Burea', 'Bajju',\n",
       "       'Awo', 'Efik', 'Englsh', 'Katab', 'Yoruba.'], dtype=object)"
      ]
     },
     "execution_count": 35,
     "metadata": {},
     "output_type": "execute_result"
    }
   ],
   "source": [
    "# with 136 distinct languages, how best can i do this...\n",
    "lang_list1 = dproject[\"Lang1\"].unique()\n",
    "lang_list1"
   ]
  },
  {
   "cell_type": "code",
   "execution_count": 36,
   "metadata": {},
   "outputs": [
    {
     "data": {
      "text/plain": [
       "array([' Yoruba', ' Igbo', ' Hausa', ' Pidgin English', ' Gbagyi',\n",
       "       ' English', ' Idoma', ' Ijona', None, ' Tiv', ' Akwa Ibom',\n",
       "       ' Igala', ' Amo', ' Tarok', ' Fulfude', ' Gede', ' Fulfulde',\n",
       "       ' Ngas', ' Mada', ' Cross River', ' Bassa', ' Eggon', ' Igon',\n",
       "       ' Jabba ', ' Kilber', ' Igede', 'Hausa', nan, 'Gbagyi', 'English',\n",
       "       ' Gade', ' Koro', ' Ganagana', ' Gbagyi ', ' Chawai', ' Ahor',\n",
       "       '  Hausa', ' Basange', 'Pidin English', ' TIV', ' Chawel',\n",
       "       ' Hausa  ', ' Hausa ', '  Tiv', ' Tiv ', ' Jaba', ' Madar',\n",
       "       ' Igbira', ' Kaduna', ' Ibo', ' Ron', ' Edo', ' Ibibio(Akwa-Ibom',\n",
       "       ' Kataf', ' Margi'], dtype=object)"
      ]
     },
     "execution_count": 36,
     "metadata": {},
     "output_type": "execute_result"
    }
   ],
   "source": [
    "lang_list2 = dproject[\"Lang2\"].unique()\n",
    "lang_list2"
   ]
  },
  {
   "cell_type": "code",
   "execution_count": 37,
   "metadata": {},
   "outputs": [
    {
     "data": {
      "text/plain": [
       "array([None, ' Pidgin English', ' Bura', ' Gbagyi', ' Hausa', ' Tarok ',\n",
       "       ' Fulfulde', ' Hausa ', ' Tiv', ' Idoma', ' English', ' Fulani',\n",
       "       'Mada', nan, 'Hausa', ' Mada', ' Ebira', ' Gusawa', ' Eggon',\n",
       "       ' Bajju', ' Chawai', ' Gede', ' Gwandara', ' Yoruba', ' Adara',\n",
       "       ' Atarkar', 'Fulfude'], dtype=object)"
      ]
     },
     "execution_count": 37,
     "metadata": {},
     "output_type": "execute_result"
    }
   ],
   "source": [
    "lang_list3 = dproject[\"Lang3\"].unique()\n",
    "lang_list3 "
   ]
  },
  {
   "cell_type": "code",
   "execution_count": 38,
   "metadata": {},
   "outputs": [
    {
     "data": {
      "text/plain": [
       "array([None, ' Hausa', ' English', nan, 'Gade', ' Gade', ' Mada',\n",
       "       ' Pidgin English', ' Koro', ' Afo', ' Gede'], dtype=object)"
      ]
     },
     "execution_count": 38,
     "metadata": {},
     "output_type": "execute_result"
    }
   ],
   "source": [
    "lang_list4 = dproject[\"Lang4\"].unique()\n",
    "lang_list4"
   ]
  },
  {
   "cell_type": "code",
   "execution_count": null,
   "metadata": {},
   "outputs": [],
   "source": []
  },
  {
   "cell_type": "code",
   "execution_count": 18,
   "metadata": {},
   "outputs": [
    {
     "name": "stdout",
     "output_type": "stream",
     "text": [
      "360\n",
      "15\n"
     ]
    }
   ],
   "source": [
    "def convert_yards(y, feet=True):\n",
    "    if feet is True:\n",
    "        new_y = y*3\n",
    "    else:\n",
    "        new_y = y*36\n",
    "    return new_y\n",
    "\n",
    "print(convert_yards(10, False))\n",
    "print(convert_yards(5))"
   ]
  },
  {
   "cell_type": "code",
   "execution_count": 24,
   "metadata": {},
   "outputs": [],
   "source": [
    "# df is a pandas dataframe\n",
    "# default parameters pandas Series.str.split() function\n",
    "#dproject['Languages Spoken'].str.split(',', n=-1, expand=False)\n",
    "dproject['Language List'] = dproject['Languages Spoken'].str.split(',', n=-1, expand=False)\n",
    "\n",
    "# to split into multiple columns by delimiter\n",
    "#df['Col'].str.split(delimiter, expand=True)"
   ]
  },
  {
   "cell_type": "code",
   "execution_count": 25,
   "metadata": {},
   "outputs": [
    {
     "data": {
      "text/plain": [
       "0                       [English ,  Yoruba]\n",
       "1       [English,  Yoruba,  Pidgin English]\n",
       "2                          [English,  Igbo]\n",
       "3                  [English,  Hausa,  Bura]\n",
       "4       [English,  Pidgin English,  Gbagyi]\n",
       "                       ...                 \n",
       "1000                                  [Tiv]\n",
       "1001                               [Gbagyi]\n",
       "1002                              [Yoruba.]\n",
       "1003                               [Gbagyi]\n",
       "1004                     [Yoruba,  English]\n",
       "Name: Language List, Length: 1005, dtype: object"
      ]
     },
     "execution_count": 25,
     "metadata": {},
     "output_type": "execute_result"
    }
   ],
   "source": [
    "dproject['Language List']\n"
   ]
  },
  {
   "cell_type": "code",
   "execution_count": 29,
   "metadata": {},
   "outputs": [
    {
     "ename": "TypeError",
     "evalue": "slice indices must be integers or None or have an __index__ method",
     "output_type": "error",
     "traceback": [
      "\u001b[1;31m---------------------------------------------------------------------------\u001b[0m",
      "\u001b[1;31mTypeError\u001b[0m                                 Traceback (most recent call last)",
      "\u001b[1;32m<ipython-input-29-55d202fc2dc8>\u001b[0m in \u001b[0;36m<module>\u001b[1;34m\u001b[0m\n\u001b[0;32m      4\u001b[0m     \u001b[1;32mreturn\u001b[0m \u001b[0mwords\u001b[0m\u001b[1;33m[\u001b[0m\u001b[1;36m0\u001b[0m\u001b[1;33m]\u001b[0m\u001b[1;33m[\u001b[0m\u001b[1;33m:\u001b[0m\u001b[0mk\u001b[0m\u001b[1;33m]\u001b[0m\u001b[1;33m\u001b[0m\u001b[1;33m\u001b[0m\u001b[0m\n\u001b[0;32m      5\u001b[0m \u001b[1;31m# apply function to series\u001b[0m\u001b[1;33m\u001b[0m\u001b[1;33m\u001b[0m\u001b[1;33m\u001b[0m\u001b[0m\n\u001b[1;32m----> 6\u001b[1;33m \u001b[0mlang_list\u001b[0m \u001b[1;33m=\u001b[0m \u001b[0mdproject\u001b[0m\u001b[1;33m[\u001b[0m\u001b[1;34m'Languages Spoken'\u001b[0m\u001b[1;33m]\u001b[0m\u001b[1;33m.\u001b[0m\u001b[0mapply\u001b[0m\u001b[1;33m(\u001b[0m\u001b[0mlanguage_list\u001b[0m\u001b[1;33m)\u001b[0m\u001b[1;33m\u001b[0m\u001b[1;33m\u001b[0m\u001b[0m\n\u001b[0m\u001b[0;32m      7\u001b[0m \u001b[1;31m# print the returned series\u001b[0m\u001b[1;33m\u001b[0m\u001b[1;33m\u001b[0m\u001b[1;33m\u001b[0m\u001b[0m\n\u001b[0;32m      8\u001b[0m \u001b[0mprint\u001b[0m\u001b[1;33m(\u001b[0m\u001b[0mlang_list\u001b[0m\u001b[1;33m)\u001b[0m\u001b[1;33m\u001b[0m\u001b[1;33m\u001b[0m\u001b[0m\n",
      "\u001b[1;32m~\\anaconda3\\lib\\site-packages\\pandas\\core\\series.py\u001b[0m in \u001b[0;36mapply\u001b[1;34m(self, func, convert_dtype, args, **kwds)\u001b[0m\n\u001b[0;32m   4198\u001b[0m             \u001b[1;32melse\u001b[0m\u001b[1;33m:\u001b[0m\u001b[1;33m\u001b[0m\u001b[1;33m\u001b[0m\u001b[0m\n\u001b[0;32m   4199\u001b[0m                 \u001b[0mvalues\u001b[0m \u001b[1;33m=\u001b[0m \u001b[0mself\u001b[0m\u001b[1;33m.\u001b[0m\u001b[0mastype\u001b[0m\u001b[1;33m(\u001b[0m\u001b[0mobject\u001b[0m\u001b[1;33m)\u001b[0m\u001b[1;33m.\u001b[0m\u001b[0m_values\u001b[0m\u001b[1;33m\u001b[0m\u001b[1;33m\u001b[0m\u001b[0m\n\u001b[1;32m-> 4200\u001b[1;33m                 \u001b[0mmapped\u001b[0m \u001b[1;33m=\u001b[0m \u001b[0mlib\u001b[0m\u001b[1;33m.\u001b[0m\u001b[0mmap_infer\u001b[0m\u001b[1;33m(\u001b[0m\u001b[0mvalues\u001b[0m\u001b[1;33m,\u001b[0m \u001b[0mf\u001b[0m\u001b[1;33m,\u001b[0m \u001b[0mconvert\u001b[0m\u001b[1;33m=\u001b[0m\u001b[0mconvert_dtype\u001b[0m\u001b[1;33m)\u001b[0m\u001b[1;33m\u001b[0m\u001b[1;33m\u001b[0m\u001b[0m\n\u001b[0m\u001b[0;32m   4201\u001b[0m \u001b[1;33m\u001b[0m\u001b[0m\n\u001b[0;32m   4202\u001b[0m         \u001b[1;32mif\u001b[0m \u001b[0mlen\u001b[0m\u001b[1;33m(\u001b[0m\u001b[0mmapped\u001b[0m\u001b[1;33m)\u001b[0m \u001b[1;32mand\u001b[0m \u001b[0misinstance\u001b[0m\u001b[1;33m(\u001b[0m\u001b[0mmapped\u001b[0m\u001b[1;33m[\u001b[0m\u001b[1;36m0\u001b[0m\u001b[1;33m]\u001b[0m\u001b[1;33m,\u001b[0m \u001b[0mSeries\u001b[0m\u001b[1;33m)\u001b[0m\u001b[1;33m:\u001b[0m\u001b[1;33m\u001b[0m\u001b[1;33m\u001b[0m\u001b[0m\n",
      "\u001b[1;32mpandas\\_libs\\lib.pyx\u001b[0m in \u001b[0;36mpandas._libs.lib.map_infer\u001b[1;34m()\u001b[0m\n",
      "\u001b[1;32m<ipython-input-29-55d202fc2dc8>\u001b[0m in \u001b[0;36mlanguage_list\u001b[1;34m(n, *k)\u001b[0m\n\u001b[0;32m      2\u001b[0m \u001b[1;32mdef\u001b[0m \u001b[0mlanguage_list\u001b[0m\u001b[1;33m(\u001b[0m\u001b[0mn\u001b[0m\u001b[1;33m,\u001b[0m \u001b[1;33m*\u001b[0m\u001b[0mk\u001b[0m\u001b[1;33m)\u001b[0m\u001b[1;33m:\u001b[0m\u001b[1;33m\u001b[0m\u001b[1;33m\u001b[0m\u001b[0m\n\u001b[0;32m      3\u001b[0m     \u001b[0mwords\u001b[0m \u001b[1;33m=\u001b[0m \u001b[0mn\u001b[0m\u001b[1;33m.\u001b[0m\u001b[0msplit\u001b[0m\u001b[1;33m(\u001b[0m\u001b[1;34m\",\"\u001b[0m\u001b[1;33m)\u001b[0m\u001b[1;33m\u001b[0m\u001b[1;33m\u001b[0m\u001b[0m\n\u001b[1;32m----> 4\u001b[1;33m     \u001b[1;32mreturn\u001b[0m \u001b[0mwords\u001b[0m\u001b[1;33m[\u001b[0m\u001b[1;36m0\u001b[0m\u001b[1;33m]\u001b[0m\u001b[1;33m[\u001b[0m\u001b[1;33m:\u001b[0m\u001b[0mk\u001b[0m\u001b[1;33m]\u001b[0m\u001b[1;33m\u001b[0m\u001b[1;33m\u001b[0m\u001b[0m\n\u001b[0m\u001b[0;32m      5\u001b[0m \u001b[1;31m# apply function to series\u001b[0m\u001b[1;33m\u001b[0m\u001b[1;33m\u001b[0m\u001b[1;33m\u001b[0m\u001b[0m\n\u001b[0;32m      6\u001b[0m \u001b[0mlang_list\u001b[0m \u001b[1;33m=\u001b[0m \u001b[0mdproject\u001b[0m\u001b[1;33m[\u001b[0m\u001b[1;34m'Languages Spoken'\u001b[0m\u001b[1;33m]\u001b[0m\u001b[1;33m.\u001b[0m\u001b[0mapply\u001b[0m\u001b[1;33m(\u001b[0m\u001b[0mlanguage_list\u001b[0m\u001b[1;33m)\u001b[0m\u001b[1;33m\u001b[0m\u001b[1;33m\u001b[0m\u001b[0m\n",
      "\u001b[1;31mTypeError\u001b[0m: slice indices must be integers or None or have an __index__ method"
     ]
    }
   ],
   "source": [
    "# custom function\n",
    "def language_list(n, *k):\n",
    "    words = n.split(\",\")\n",
    "    return words[0][:k]\n",
    "# apply function to series\n",
    "lang_list = dproject['Languages Spoken'].apply(language_list)\n",
    "# print the returned series\n",
    "print(lang_list)"
   ]
  },
  {
   "cell_type": "code",
   "execution_count": 40,
   "metadata": {},
   "outputs": [
    {
     "data": {
      "text/plain": [
       "Index(['Serial Number', 'School', 'Surname', 'First Name', 'Other Name',\n",
       "       'Date of entry', 'Gender', 'Date of Birth', 'Age', 'Languages Spoken',\n",
       "       'Class', 'Year of Entry', 'Language with Parents',\n",
       "       'Language with Siblings', 'Language with Friends', 'Language in School',\n",
       "       'First English at ', 'Comprehension 1', 'Comprehension 2',\n",
       "       'Comprehension 3', 'Comprehension 4', 'Comprehension 5', 'Unnamed: 22',\n",
       "       ' F', 'F', 'M', 'Language List', 'Lang1', 'Lang2', 'Lang3', 'Lang4'],\n",
       "      dtype='object')"
      ]
     },
     "execution_count": 40,
     "metadata": {},
     "output_type": "execute_result"
    }
   ],
   "source": [
    "dproject.columns"
   ]
  },
  {
   "cell_type": "code",
   "execution_count": 42,
   "metadata": {},
   "outputs": [
    {
     "data": {
      "text/plain": [
       "390"
      ]
     },
     "execution_count": 42,
     "metadata": {},
     "output_type": "execute_result"
    }
   ],
   "source": [
    "dproject['Date of Birth'].isna().sum()\n"
   ]
  },
  {
   "cell_type": "code",
   "execution_count": 43,
   "metadata": {},
   "outputs": [
    {
     "data": {
      "text/plain": [
       "Serial Number               11\n",
       "School                       0\n",
       "Surname                    115\n",
       "First Name                 115\n",
       "Other Name                 666\n",
       "Date of entry                6\n",
       "Gender                       4\n",
       "Date of Birth              390\n",
       "Age                       1004\n",
       "Languages Spoken             3\n",
       "Class                        1\n",
       "Year of Entry               40\n",
       "Language with Parents        3\n",
       "Language with Siblings      11\n",
       "Language with Friends        5\n",
       "Language in School          12\n",
       "First English at             6\n",
       "Comprehension 1             23\n",
       "Comprehension 2             33\n",
       "Comprehension 3             37\n",
       "Comprehension 4             47\n",
       "Comprehension 5             46\n",
       "Unnamed: 22               1005\n",
       " F                           0\n",
       "F                            0\n",
       "M                            0\n",
       "Language List                3\n",
       "Lang1                        3\n",
       "Lang2                      404\n",
       "Lang3                      912\n",
       "Lang4                      996\n",
       "dtype: int64"
      ]
     },
     "execution_count": 43,
     "metadata": {},
     "output_type": "execute_result"
    }
   ],
   "source": [
    "dproject.isna().sum()"
   ]
  },
  {
   "cell_type": "code",
   "execution_count": 44,
   "metadata": {},
   "outputs": [
    {
     "data": {
      "text/plain": [
       "Serial Number               1.094527\n",
       "School                      0.000000\n",
       "Surname                    11.442786\n",
       "First Name                 11.442786\n",
       "Other Name                 66.268657\n",
       "Date of entry               0.597015\n",
       "Gender                      0.398010\n",
       "Date of Birth              38.805970\n",
       "Age                        99.900498\n",
       "Languages Spoken            0.298507\n",
       "Class                       0.099502\n",
       "Year of Entry               3.980100\n",
       "Language with Parents       0.298507\n",
       "Language with Siblings      1.094527\n",
       "Language with Friends       0.497512\n",
       "Language in School          1.194030\n",
       "First English at            0.597015\n",
       "Comprehension 1             2.288557\n",
       "Comprehension 2             3.283582\n",
       "Comprehension 3             3.681592\n",
       "Comprehension 4             4.676617\n",
       "Comprehension 5             4.577114\n",
       "Unnamed: 22               100.000000\n",
       " F                          0.000000\n",
       "F                           0.000000\n",
       "M                           0.000000\n",
       "Language List               0.298507\n",
       "Lang1                       0.298507\n",
       "Lang2                      40.199005\n",
       "Lang3                      90.746269\n",
       "Lang4                      99.104478\n",
       "dtype: float64"
      ]
     },
     "execution_count": 44,
     "metadata": {},
     "output_type": "execute_result"
    }
   ],
   "source": [
    "#df.isna().sum()/len(df)*100\n",
    "# ref... https://towardsdatascience.com/data-preprocessing-with-python-pandas-part-1-missing-data-45e76b781993\n",
    "dproject.isna().sum()/len(dproject)*100"
   ]
  },
  {
   "cell_type": "code",
   "execution_count": null,
   "metadata": {},
   "outputs": [],
   "source": [
    "# Still trying to work on this..."
   ]
  }
 ],
 "metadata": {
  "kernelspec": {
   "display_name": "Python 3",
   "language": "python",
   "name": "python3"
  },
  "language_info": {
   "codemirror_mode": {
    "name": "ipython",
    "version": 3
   },
   "file_extension": ".py",
   "mimetype": "text/x-python",
   "name": "python",
   "nbconvert_exporter": "python",
   "pygments_lexer": "ipython3",
   "version": "3.8.5"
  }
 },
 "nbformat": 4,
 "nbformat_minor": 4
}
